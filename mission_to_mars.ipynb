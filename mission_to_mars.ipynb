{
 "cells": [
  {
   "cell_type": "code",
   "execution_count": null,
   "id": "9a7eef6a",
   "metadata": {},
   "outputs": [],
   "source": [
    "#import dependencies\n",
    "import pandas as pd\n",
    "from splinter import Browser\n",
    "from bs4 import BeautifulSoup\n",
    "from webdriver_manager.chrome import ChromeDriverManager\n",
    "import requests\n",
    "import os"
   ]
  },
  {
   "cell_type": "code",
   "execution_count": null,
   "id": "1bd7e5e1",
   "metadata": {},
   "outputs": [],
   "source": [
    "# Setup splinter\n",
    "executable_path = {'executable_path': ChromeDriverManager().install()}\n",
    "browser = Browser('chrome', **executable_path, headless=False)"
   ]
  },
  {
   "cell_type": "code",
   "execution_count": null,
   "id": "76616bb0",
   "metadata": {},
   "outputs": [],
   "source": [
    "#url to scrape\n",
    "Mars_news_url = 'https://mars.nasa.gov/news/'\n",
    "browser.visit(Mars_news_url)\n"
   ]
  },
  {
   "cell_type": "code",
   "execution_count": null,
   "id": "485d7407",
   "metadata": {},
   "outputs": [],
   "source": [
    "#Create beautiful soup object\n",
    "Mars_html  = browser.html\n",
    "Mars_soup = BeautifulSoup(Mars_html, 'html.parser')\n"
   ]
  },
  {
   "cell_type": "markdown",
   "id": "156989ef",
   "metadata": {},
   "source": [
    "# Retrieve news title & paragraph texts"
   ]
  },
  {
   "cell_type": "code",
   "execution_count": null,
   "id": "b2ab19b3",
   "metadata": {},
   "outputs": [],
   "source": [
    "# landing page was inspected, class assigned to newspreview: artlce_teaser_body\n",
    "\n",
    "article = soup.find(\"div\", class_='list_text')\n",
    "news_title = article.find('div', class_='content_title').text\n",
    "paragraph = article.find(\"div\", class_=\"article_teaser_body\").text\n",
    "print(news_title)\n",
    "print(paragraph)"
   ]
  },
  {
   "cell_type": "code",
   "execution_count": null,
   "id": "5a570c02",
   "metadata": {},
   "outputs": [],
   "source": []
  },
  {
   "cell_type": "markdown",
   "id": "f3ad4d16",
   "metadata": {},
   "source": [
    "# Retrieve images"
   ]
  },
  {
   "cell_type": "code",
   "execution_count": null,
   "id": "dec24596",
   "metadata": {},
   "outputs": [],
   "source": [
    "#Url to scrape and automated browswer\n",
    "images_url = \"https://spaceimages-mars.com\"\n",
    "browser.visit(images_url)"
   ]
  },
  {
   "cell_type": "code",
   "execution_count": null,
   "id": "2dd56500",
   "metadata": {},
   "outputs": [],
   "source": [
    "#create beautiful soup \n",
    "html = browser.html\n",
    "soup = BeautifulSoup(html, 'html.parser')"
   ]
  },
  {
   "cell_type": "code",
   "execution_count": null,
   "id": "80e36c0e",
   "metadata": {},
   "outputs": [],
   "source": [
    "#save image url\n",
    "image = soup.find(\"img\", class_ =\"headerimage\")['src']\n",
    "featured_image_url = 'https://spaceimages-mars.com/' + image\n",
    "print(featured_image_url)"
   ]
  },
  {
   "cell_type": "markdown",
   "id": "24492d8a",
   "metadata": {},
   "source": [
    "# Retrieve Mars facts"
   ]
  },
  {
   "cell_type": "code",
   "execution_count": null,
   "id": "a206a834",
   "metadata": {},
   "outputs": [],
   "source": [
    "# url to scrape mars facts\n",
    "\n",
    "Mars_facts_url = 'https://galaxyfacts-mars.com/'\n",
    "\n",
    "browser.visit(Mars_facts_url)"
   ]
  },
  {
   "cell_type": "code",
   "execution_count": null,
   "id": "df534a87",
   "metadata": {},
   "outputs": [],
   "source": [
    "#load tables\n",
    "facts_html = browser.html\n",
    "\n",
    "soup = BeautifulSoup(facts_html, 'html.parser')\n",
    "\n"
   ]
  },
  {
   "cell_type": "code",
   "execution_count": null,
   "id": "0451b245",
   "metadata": {},
   "outputs": [],
   "source": [
    "import pandas as pd \n",
    "facts_url = 'https://space-facts.com/mars'\n",
    "browser.visit(Mars_facts_url)\n",
    "mars_data = pd.read_html(Mars_facts_url)\n",
    "mars_data = pd.DataFrame(mars_data[0])\n",
    "mars_facts = mars_data.to_html(header = False, index = False)\n",
    "print(mars_facts)"
   ]
  },
  {
   "cell_type": "markdown",
   "id": "94a6a1ad",
   "metadata": {},
   "source": [
    "# Mars Hemispheres"
   ]
  },
  {
   "cell_type": "code",
   "execution_count": null,
   "id": "2231a932",
   "metadata": {},
   "outputs": [],
   "source": [
    "import time\n",
    "#url to scrape \n",
    "url = 'https://astrogeology.usgs.gov/search/results?q=hemisphere+enhanced&k1=target&v1=Mars'\n",
    "browser.visit(url)"
   ]
  },
  {
   "cell_type": "code",
   "execution_count": null,
   "id": "b6cf93e4",
   "metadata": {},
   "outputs": [],
   "source": [
    "\n",
    "html = browser.html\n",
    "soup = BeautifulSoup(html, 'html.parser')\n",
    "mars_hemisphere = []\n",
    "\n",
    "products = soup.find('div', class_='result-list')\n",
    "hemispheres = products.find_all('div', class_='item')\n",
    "\n",
    "for hemisphere in hemispheres:\n",
    "    title = hemisphere.find('h3').text\n",
    "    title = title.replace('Enhanced', '')\n",
    "    end_link = hemisphere.find('a')['href']\n",
    "    image_link = 'https://astrogeology.usgs.gov/' + end_link\n",
    "    browser.visit(image_link)\n",
    "    html = browser.html\n",
    "    soup = BeautifulSoup(html,'html.parser')\n",
    "    download = soup.find('div', class_='downloads')\n",
    "    images_url = download.find('a')['href']\n",
    "    mars_hemisphere.append({'title': title, \"img_url\":image_url})"
   ]
  },
  {
   "cell_type": "raw",
   "id": "a2bfede2",
   "metadata": {},
   "source": [
    "mars_hemisphere"
   ]
  },
  {
   "cell_type": "code",
   "execution_count": null,
   "id": "5c341056",
   "metadata": {},
   "outputs": [],
   "source": [
    "browser.quit()"
   ]
  }
 ],
 "metadata": {
  "kernelspec": {
   "display_name": "Python 3 (ipykernel)",
   "language": "python",
   "name": "python3"
  },
  "language_info": {
   "codemirror_mode": {
    "name": "ipython",
    "version": 3
   },
   "file_extension": ".py",
   "mimetype": "text/x-python",
   "name": "python",
   "nbconvert_exporter": "python",
   "pygments_lexer": "ipython3",
   "version": "3.8.13"
  }
 },
 "nbformat": 4,
 "nbformat_minor": 5
}

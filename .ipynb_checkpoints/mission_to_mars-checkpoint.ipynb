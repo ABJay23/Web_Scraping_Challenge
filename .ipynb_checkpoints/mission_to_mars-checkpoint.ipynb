{
 "cells": [
  {
   "cell_type": "code",
   "execution_count": 90,
   "id": "9a7eef6a",
   "metadata": {},
   "outputs": [],
   "source": [
    "#import dependencies\n",
    "import pandas as pd\n",
    "from splinter import Browser\n",
    "from bs4 import BeautifulSoup\n",
    "from webdriver_manager.chrome import ChromeDriverManager\n",
    "import requests\n",
    "import os"
   ]
  },
  {
   "cell_type": "code",
   "execution_count": 91,
   "id": "1bd7e5e1",
   "metadata": {},
   "outputs": [],
   "source": [
    "# Setup splinter\n",
    "executable_path = {'executable_path': ChromeDriverManager().install()}\n",
    "browser = Browser('chrome', **executable_path, headless=False)"
   ]
  },
  {
   "cell_type": "code",
   "execution_count": 92,
   "id": "4ebd6b61",
   "metadata": {},
   "outputs": [],
   "source": [
    "#url to scrape\n",
    "Mars_news_url = 'https://mars.nasa.gov/news/'\n",
    "browser.visit(Mars_news_url)\n"
   ]
  },
  {
   "cell_type": "code",
   "execution_count": 93,
   "id": "485d7407",
   "metadata": {},
   "outputs": [],
   "source": [
    "#Create beautiful soup object\n",
    "Mars_html  = browser.html\n",
    "Mars_soup = BeautifulSoup(Mars_html, 'html.parser')\n"
   ]
  },
  {
   "cell_type": "markdown",
   "id": "638f6850",
   "metadata": {},
   "source": [
    "# Retrieve news title & paragraph texts"
   ]
  },
  {
   "cell_type": "code",
   "execution_count": 94,
   "id": "29c20c4c",
   "metadata": {},
   "outputs": [
    {
     "ename": "AttributeError",
     "evalue": "'NoneType' object has no attribute 'find'",
     "output_type": "error",
     "traceback": [
      "\u001b[0;31m---------------------------------------------------------------------------\u001b[0m",
      "\u001b[0;31mAttributeError\u001b[0m                            Traceback (most recent call last)",
      "Input \u001b[0;32mIn [94]\u001b[0m, in \u001b[0;36m<cell line: 4>\u001b[0;34m()\u001b[0m\n\u001b[1;32m      1\u001b[0m \u001b[38;5;66;03m# landing page was inspected, class assigned to newspreview: artlce_teaser_body\u001b[39;00m\n\u001b[1;32m      3\u001b[0m article \u001b[38;5;241m=\u001b[39m soup\u001b[38;5;241m.\u001b[39mfind(\u001b[38;5;124m\"\u001b[39m\u001b[38;5;124mdiv\u001b[39m\u001b[38;5;124m\"\u001b[39m, class_\u001b[38;5;241m=\u001b[39m\u001b[38;5;124m'\u001b[39m\u001b[38;5;124mlist_text\u001b[39m\u001b[38;5;124m'\u001b[39m)\n\u001b[0;32m----> 4\u001b[0m news_title \u001b[38;5;241m=\u001b[39m \u001b[43marticle\u001b[49m\u001b[38;5;241;43m.\u001b[39;49m\u001b[43mfind\u001b[49m(\u001b[38;5;124m'\u001b[39m\u001b[38;5;124mdiv\u001b[39m\u001b[38;5;124m'\u001b[39m, class_\u001b[38;5;241m=\u001b[39m\u001b[38;5;124m'\u001b[39m\u001b[38;5;124mcontent_title\u001b[39m\u001b[38;5;124m'\u001b[39m)\u001b[38;5;241m.\u001b[39mtext\n\u001b[1;32m      5\u001b[0m paragraph \u001b[38;5;241m=\u001b[39m article\u001b[38;5;241m.\u001b[39mfind(\u001b[38;5;124m\"\u001b[39m\u001b[38;5;124mdiv\u001b[39m\u001b[38;5;124m\"\u001b[39m, class_\u001b[38;5;241m=\u001b[39m\u001b[38;5;124m\"\u001b[39m\u001b[38;5;124marticle_teaser_body\u001b[39m\u001b[38;5;124m\"\u001b[39m)\u001b[38;5;241m.\u001b[39mtext\n\u001b[1;32m      6\u001b[0m \u001b[38;5;28mprint\u001b[39m(news_title)\n",
      "\u001b[0;31mAttributeError\u001b[0m: 'NoneType' object has no attribute 'find'"
     ]
    }
   ],
   "source": [
    "# landing page was inspected, class assigned to newspreview: artlce_teaser_body\n",
    "\n",
    "article = soup.find(\"div\", class_='list_text')\n",
    "news_title = article.find('div', class_='content_title').text\n",
    "paragraph = article.find(\"div\", class_=\"article_teaser_body\").text\n",
    "print(news_title)\n",
    "print(paragraph)"
   ]
  },
  {
   "cell_type": "code",
   "execution_count": null,
   "id": "e9a912cd",
   "metadata": {},
   "outputs": [],
   "source": []
  },
  {
   "cell_type": "markdown",
   "id": "32bd3d81",
   "metadata": {},
   "source": [
    "# Retrieve images"
   ]
  },
  {
   "cell_type": "code",
   "execution_count": 95,
   "id": "3f3e1642",
   "metadata": {},
   "outputs": [],
   "source": [
    "#Url to scrape and automated browswer\n",
    "images_url = \"https://spaceimages-mars.com\"\n",
    "browser.visit(images_url)"
   ]
  },
  {
   "cell_type": "code",
   "execution_count": 96,
   "id": "c6f7c893",
   "metadata": {},
   "outputs": [],
   "source": [
    "#create beautiful soup \n",
    "html = browser.html\n",
    "soup = BeautifulSoup(html, 'html.parser')"
   ]
  },
  {
   "cell_type": "code",
   "execution_count": 97,
   "id": "d165ab2a",
   "metadata": {},
   "outputs": [
    {
     "name": "stdout",
     "output_type": "stream",
     "text": [
      "https://spaceimages-mars.com/image/featured/mars3.jpg\n"
     ]
    }
   ],
   "source": [
    "#save image url\n",
    "image = soup.find(\"img\", class_ =\"headerimage\")['src']\n",
    "featured_image_url = 'https://spaceimages-mars.com/' + image\n",
    "print(featured_image_url)"
   ]
  },
  {
   "cell_type": "markdown",
   "id": "3ac97bfc",
   "metadata": {},
   "source": [
    "# Retrieve Mars facts"
   ]
  },
  {
   "cell_type": "code",
   "execution_count": 99,
   "id": "f57b3c33",
   "metadata": {},
   "outputs": [],
   "source": [
    "# url to scrape mars facts\n",
    "\n",
    "Mars_facts_url = 'https://galaxyfacts-mars.com/'\n",
    "\n",
    "browser.visit(Mars_facts_url)"
   ]
  },
  {
   "cell_type": "code",
   "execution_count": 101,
   "id": "93892e0b",
   "metadata": {},
   "outputs": [],
   "source": [
    "#load tables\n",
    "facts_html = browser.html\n",
    "\n",
    "soup = BeautifulSoup(facts_html, 'html.parser')\n",
    "\n"
   ]
  },
  {
   "cell_type": "code",
   "execution_count": 111,
   "id": "5f99fcdd",
   "metadata": {},
   "outputs": [
    {
     "name": "stdout",
     "output_type": "stream",
     "text": [
      "<table border=\"1\" class=\"dataframe\">\n",
      "  <tbody>\n",
      "    <tr>\n",
      "      <td>Mars - Earth Comparison</td>\n",
      "      <td>Mars</td>\n",
      "      <td>Earth</td>\n",
      "    </tr>\n",
      "    <tr>\n",
      "      <td>Diameter:</td>\n",
      "      <td>6,779 km</td>\n",
      "      <td>12,742 km</td>\n",
      "    </tr>\n",
      "    <tr>\n",
      "      <td>Mass:</td>\n",
      "      <td>6.39 × 10^23 kg</td>\n",
      "      <td>5.97 × 10^24 kg</td>\n",
      "    </tr>\n",
      "    <tr>\n",
      "      <td>Moons:</td>\n",
      "      <td>2</td>\n",
      "      <td>1</td>\n",
      "    </tr>\n",
      "    <tr>\n",
      "      <td>Distance from Sun:</td>\n",
      "      <td>227,943,824 km</td>\n",
      "      <td>149,598,262 km</td>\n",
      "    </tr>\n",
      "    <tr>\n",
      "      <td>Length of Year:</td>\n",
      "      <td>687 Earth days</td>\n",
      "      <td>365.24 days</td>\n",
      "    </tr>\n",
      "    <tr>\n",
      "      <td>Temperature:</td>\n",
      "      <td>-87 to -5 °C</td>\n",
      "      <td>-88 to 58°C</td>\n",
      "    </tr>\n",
      "  </tbody>\n",
      "</table>\n"
     ]
    }
   ],
   "source": [
    "import pandas as pd \n",
    "facts_url = 'https://space-facts.com/mars'\n",
    "browser.visit(Mars_facts_url)\n",
    "mars_data = pd.read_html(Mars_facts_url)\n",
    "mars_data = pd.DataFrame(mars_data[0])\n",
    "mars_facts = mars_data.to_html(header = False, index = False)\n",
    "print(mars_facts)"
   ]
  },
  {
   "cell_type": "markdown",
   "id": "48f6030e",
   "metadata": {},
   "source": [
    "# Mars Hemispheres"
   ]
  },
  {
   "cell_type": "code",
   "execution_count": null,
   "id": "4da326d5",
   "metadata": {},
   "outputs": [],
   "source": [
    "import time\n",
    "#url to scrape \n",
    "url = 'https://astrogeology.usgs.gov/search/results?q=hemisphere+enhanced&k1=target&v1=Mars'\n",
    "browser.visit(url)"
   ]
  },
  {
   "cell_type": "code",
   "execution_count": null,
   "id": "694f8ecf",
   "metadata": {},
   "outputs": [],
   "source": [
    "\n",
    "html = browser.html\n",
    "soup = BeautifulSoup(html, 'html.parser')\n",
    "Mars_hemisphere = []\n",
    "\n",
    "products = soup.find('div', class_='result-list')\n",
    "hemispheres = products.find_all('div', class_='item')\n",
    "\n",
    "for hemisphere in hemispheres:\n",
    "    title = hemisphere.find('h3').text\n",
    "    title = title.replace('Enhanced', '')\n",
    "    end_link = hemisphere.find('a')['href']\n",
    "    image_link = 'https://astrogeology.usgs.gov/' + end_link\n",
    "    browser.visit(image_link)\n",
    "    html = browser.html\n",
    "    soup = BeautifulSoup(html,'html.parser')\n",
    "    downloads = soup.find('div', class_='downloads')\n",
    "    image_url = downloads.find('a')['href']\n",
    "    mars_hemisphere.append({'title': title, \"img_url\":image_url})"
   ]
  },
  {
   "cell_type": "raw",
   "id": "1f4ff422",
   "metadata": {},
   "source": []
  },
  {
   "cell_type": "code",
   "execution_count": null,
   "id": "479ef80c",
   "metadata": {},
   "outputs": [],
   "source": []
  }
 ],
 "metadata": {
  "kernelspec": {
   "display_name": "Python 3 (ipykernel)",
   "language": "python",
   "name": "python3"
  },
  "language_info": {
   "codemirror_mode": {
    "name": "ipython",
    "version": 3
   },
   "file_extension": ".py",
   "mimetype": "text/x-python",
   "name": "python",
   "nbconvert_exporter": "python",
   "pygments_lexer": "ipython3",
   "version": "3.8.13"
  }
 },
 "nbformat": 4,
 "nbformat_minor": 5
}
